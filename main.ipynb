{
 "cells": [
  {
   "cell_type": "code",
   "execution_count": 2,
   "metadata": {},
   "outputs": [],
   "source": [
    "from src.ANN import *\n",
    "from src.utils import show_model\n",
    "import numpy as np\n",
    "\n",
    "input_single = np.array([[0, 1]])\n",
    "input_batch = np.array([[0, 1], [1, 0], [0, 0], [1, 1]])"
   ]
  },
  {
   "cell_type": "code",
   "execution_count": 4,
   "metadata": {},
   "outputs": [
    {
     "name": "stdout",
     "output_type": "stream",
     "text": [
      "MODEL INFO\n",
      "========================================================\n",
      "units : 2  ||  activation function : sigmoid  ||  input_dim : 2\n",
      "weights :\n",
      "[-10, 20, -20]\n",
      "[30, 20, -20]\n",
      "========================================================\n",
      "units : 1  ||  activation function : sigmoid  ||  input_dim : 2\n",
      "weights :\n",
      "[-30, 20]\n",
      "========================================================\n"
     ]
    }
   ],
   "source": [
    "# Model Sigmoid\n",
    "model_sigmoid = Sequential()\n",
    "model_sigmoid.add(Dense(units=2, input_dim=2, activation_function=\"sigmoid\"))\n",
    "model_sigmoid.add(Dense(units=1, activation_function=\"sigmoid\"))\n",
    "\n",
    "# Ubah weight dan bias hidden layer\n",
    "w_hidden_sigmoid = np.array([[20, -20], [20, -20]])\n",
    "b_hidden_sigmoid = np.array([-10, 30])\n",
    "model_sigmoid.layers[0].compile_weight_and_bias(weights=w_hidden_sigmoid, biases=b_hidden_sigmoid)\n",
    "\n",
    "# Ubah weight dan bias output layer\n",
    "w_output_sigmoid = np.array([[20], [20]])\n",
    "b_output_sigmoid = np.array([-30])\n",
    "model_sigmoid.layers[1].compile_weight_and_bias(weights=w_output_sigmoid, biases=b_output_sigmoid)\n",
    "show_model(model_sigmoid)"
   ]
  },
  {
   "cell_type": "code",
   "execution_count": 5,
   "metadata": {},
   "outputs": [
    {
     "name": "stdout",
     "output_type": "stream",
     "text": [
      "MODEL INFO\n",
      "========================================================\n",
      "units : 2  ||  activation function : relu  ||  input_dim : 2\n",
      "weights :\n",
      "[0, 1, 1]\n",
      "[-1, 1, 1]\n",
      "========================================================\n",
      "units : 1  ||  activation function : linear  ||  input_dim : 2\n",
      "weights :\n",
      "[0, 1]\n",
      "========================================================\n"
     ]
    }
   ],
   "source": [
    "# Model RelU + Linear\n",
    "model_relu_linear = Sequential()\n",
    "model_relu_linear.add(Dense(units=2, input_dim=2, activation_function=\"relu\"))\n",
    "model_relu_linear.add(Dense(units=1, activation_function=\"linear\"))\n",
    "\n",
    "# Ubah weight dan bias hidden layer\n",
    "w_hidden_relu_l = np.array([[1, 1], [1, 1]])\n",
    "b_hidden_relu_l = np.array([0, -1])\n",
    "model_relu_linear.layers[0].compile_weight_and_bias(weights=w_hidden_relu_l, biases=b_hidden_relu_l)\n",
    "\n",
    "# Ubah weight dan bias output layer\n",
    "w_output_relu_l = np.array([[1], [-2]])\n",
    "b_output_relu_l = np.array([0])\n",
    "model_relu_linear.layers[1].compile_weight_and_bias(weights=w_output_relu_l, biases=b_output_relu_l)\n",
    "show_model(model_relu_linear)"
   ]
  },
  {
   "cell_type": "code",
   "execution_count": 6,
   "metadata": {},
   "outputs": [
    {
     "name": "stdout",
     "output_type": "stream",
     "text": [
      "Hasil dari Sigmoid:  [0.99995452]\n",
      "Hasil dari RelU + Linear:  [1]\n"
     ]
    }
   ],
   "source": [
    "# C. Output untuk single input\n",
    "\n",
    "res_sigmoid = model_sigmoid.predict(input_single)\n",
    "print('Hasil dari Sigmoid: ', res_sigmoid)\n",
    "\n",
    "res_relu_l = model_relu_linear.predict(input_single)\n",
    "print('Hasil dari RelU + Linear: ', res_relu_l)"
   ]
  },
  {
   "cell_type": "code",
   "execution_count": 7,
   "metadata": {},
   "outputs": [
    {
     "name": "stdout",
     "output_type": "stream",
     "text": [
      "Hasil dari Sigmoid:  [9.99954520e-01 9.99954520e-01 4.54391049e-05 4.54391049e-05]\n",
      "Hasil dari RelU + Linear:  [1 1 0 0]\n"
     ]
    }
   ],
   "source": [
    "# D. Output untuk batch input\n",
    "\n",
    "res_sigmoid = model_sigmoid.predict(input_batch)\n",
    "print('Hasil dari Sigmoid: ', res_sigmoid)\n",
    "\n",
    "res_relu_l = model_relu_linear.predict(input_batch)\n",
    "print('Hasil dari RelU + Linear: ', res_relu_l)"
   ]
  },
  {
   "cell_type": "code",
   "execution_count": null,
   "metadata": {},
   "outputs": [],
   "source": []
  }
 ],
 "metadata": {
  "interpreter": {
   "hash": "912a385c51eb6c5e7722deaa3d69ac233c1539832e74272ada8aaebb7d379777"
  },
  "kernelspec": {
   "display_name": "Python 3.8.10 ('artificialneuralnetwork-ptGnph6k-py3.8')",
   "language": "python",
   "name": "python3"
  },
  "language_info": {
   "codemirror_mode": {
    "name": "ipython",
    "version": 3
   },
   "file_extension": ".py",
   "mimetype": "text/x-python",
   "name": "python",
   "nbconvert_exporter": "python",
   "pygments_lexer": "ipython3",
   "version": "3.8.10"
  },
  "orig_nbformat": 4
 },
 "nbformat": 4,
 "nbformat_minor": 2
}
