{
 "cells": [
  {
   "cell_type": "code",
   "execution_count": 26,
   "metadata": {},
   "outputs": [],
   "source": [
    "import pandas as pd\n",
    "import numpy as np\n",
    "# from src.encoder import encode, decode\n",
    "from sklearn.model_selection import train_test_split\n",
    "from sklearn.metrics import accuracy_score\n",
    "import matplotlib.pyplot as plt\n",
    "from src.ANN import *"
   ]
  },
  {
   "cell_type": "code",
   "execution_count": 2,
   "metadata": {},
   "outputs": [],
   "source": [
    "df = pd.read_csv('Iris.csv')\n",
    "df = df.drop(['Id'],axis=1)\n",
    "\n",
    "x_train = df[['SepalLengthCm', 'SepalWidthCm', 'PetalLengthCm', 'PetalWidthCm']]\n",
    "y_train = df['Species'].map({\n",
    "    \"Iris-setosa\": 0,\n",
    "    \"Iris-versicolor\": 1,\n",
    "    \"Iris-virginica\": 2\n",
    "}).astype(int)"
   ]
  },
  {
   "cell_type": "code",
   "execution_count": 3,
   "metadata": {},
   "outputs": [],
   "source": [
    "labelled_y = []\n",
    "for i in y_train:\n",
    "    a = [0,0,0]\n",
    "    a[i] = 1\n",
    "    labelled_y.append(a)  "
   ]
  },
  {
   "cell_type": "code",
   "execution_count": 4,
   "metadata": {},
   "outputs": [],
   "source": [
    "X = np.array(x_train)\n",
    "Y = np.array(labelled_y)"
   ]
  },
  {
   "cell_type": "code",
   "execution_count": 5,
   "metadata": {},
   "outputs": [],
   "source": [
    "train_x, test_x, train_y, test_y = train_test_split(X, Y, test_size=0.20, random_state=420)"
   ]
  },
  {
   "cell_type": "code",
   "execution_count": 6,
   "metadata": {},
   "outputs": [],
   "source": [
    "model = Sequential(random_state=42069)\n",
    "model.add(Dense(units=16, input_dim=4, activation_function=\"linear\"))\n",
    "model.add(Dense(units=8, activation_function=\"relu\"))\n",
    "model.add(Dense(units=4, activation_function=\"linear\"))\n",
    "model.add(Dense(units=3, activation_function=\"relu\"))\n",
    "model.add(Dense(units=3, activation_function=\"sigmoid\"))\n",
    "model.compile(\"sum_squared_error\", 0.0001, 0.001)\n"
   ]
  },
  {
   "cell_type": "code",
   "execution_count": 28,
   "metadata": {},
   "outputs": [
    {
     "name": "stdout",
     "output_type": "stream",
     "text": [
      "MODEL INFO\n",
      "========================================================\n",
      "units : 16  ||  activation function : linear  ||  input_dim : 4\n",
      "weights :\n",
      "[-0.0023235314355005148, 0.059626524372330264, 0.13081119806629474, 0.5564699212237286, -0.00780789444656043]\n",
      "[-0.03613576539855815, -0.08256850255985468, -0.14288083116192407, 0.600189366102037, 0.0028361331249994013]\n",
      "[0.035736880882409984, 0.232669099712913, -0.29230604655297404, 0.3604883715349782, -0.04282256612933704]\n",
      "[-0.02089377434200199, 0.20876786502939876, 0.14729826598883952, 0.12268159414784524, 0.16050470743395065]\n",
      "[0.028791169004054193, 0.28143126417919045, 0.03576435519493558, -0.26611725775399303, -0.2696497101147754]\n",
      "[0.01590698067452948, -0.09445992820264233, 0.1843288065059875, 0.005068420313295467, -0.1727094236241637]\n",
      "[0.03792508137834232, 0.1732915224174998, 0.24367743454732502, -0.11649192974288043, -0.5345231454740896]\n",
      "[-0.01870344147174683, 0.05626359190509875, -0.0518019562367508, -0.07531896814035008, 0.46997897174327885]\n",
      "[-0.08270480577908265, -0.6037162973506525, -0.4920207226821818, 0.30312932776234197, 0.6367113992636939]\n",
      "[0.01652968559808823, 0.46431568859540573, 0.527938992170851, 0.2724046354387213, -0.3168779689479011]\n",
      "[-0.012684332894357697, -0.565893495211346, -0.34488973558100855, -0.05197954695269161, 0.029077358414509164]\n",
      "[0.04500462018123904, 0.026638715430389526, -0.03123087528923688, -0.24761281994804804, -0.3624295673213757]\n",
      "[-0.0021256945982030865, 0.13055267243504756, 0.07496340050991178, -0.03245836782250987, 0.17296639764405394]\n",
      "[-0.01732363119890703, -0.4101113410873364, -0.14177220368583685, 0.6441225703270559, 0.29242495066976115]\n",
      "[-0.008374440897143075, -0.17369420464543897, 0.09362621020756458, 0.4846125075088597, 0.32539762257932675]\n",
      "[0.010237048569975152, 0.3111166606435264, -0.1470715935738956, 0.03470472223635761, -0.08766311914593686]\n",
      "error terms:\n",
      "[ 0.00607436  0.01624178 -0.00234801  0.00993255 -0.01073914 -0.00242661\n",
      " -0.01626576  0.01471131  0.0250927  -0.00074026  0.00240553 -0.01632884\n",
      "  0.00249014  0.01087871  0.0025678  -0.00702739]\n",
      "========================================================\n",
      "units : 8  ||  activation function : relu  ||  input_dim : 16\n",
      "weights :\n",
      "[-0.04364393806481229, 0.4935198750024928, 0.6573868090122295, 0.11919379020515754, 0.5870327213970719, -0.41308112115297274, 0.22355033826299844, -0.5889310063663106, 0.8685213359132847, 0.468006433101462, 0.3580042274477227, -0.17874945247711, -0.4942701424345693, 0.19187817277250538, 0.557456074827383, 0.01010195548926906, -0.510177565185723]\n",
      "[0.04632057062771878, 0.10925389218408973, -0.06705335198391653, 0.360011972691785, 0.19641996707799086, 0.3441828910872326, -0.22741955566012256, -0.545261592357813, 0.006050699017652407, -0.6397910178142004, 0.44599874838108516, -0.4777540975313728, -0.3284588516233345, 0.17272066659270977, 0.07871632412802844, -0.49756069157863, -0.43243853852737535]\n",
      "[-0.0015041205148156706, 0.0305766659029758, -0.037761360823473915, -0.2952915999861752, -0.29120891314722896, -0.4377894648180487, 0.0034405076064856132, -0.2752706156514918, -0.052733049769183686, 0.19544865962770258, -0.1228193191815107, -0.43767412190395305, -0.14309246612409504, 0.3440801897586663, 0.43795702681212567, -0.3924126761383526, 0.11667578638000024]\n",
      "[0.0, -0.03591632779822099, -0.5278900736511297, -0.13114249107609888, -0.35511388349861234, -0.25642821459287973, -0.4757553141736754, 0.014371100759347808, -0.05550968792131981, -0.23033661729508612, -0.251692487109167, 0.27788624897181075, -0.7503286582775411, -0.19427978211403577, 0.3821927364706813, 0.4398053289123584, -0.17026684053263372]\n",
      "[0.0, -0.5553697350426329, 0.3363079180221726, -0.1046109011077245, 0.6025318572550901, 0.050655746253266395, 0.271490401148398, 0.3997309153396754, -0.06443739759719959, 0.4890935551916679, 0.2482611358638264, 0.5243385403521074, 0.06337219711662084, -0.33154374050697577, -0.29831613764790665, 0.6419842176801821, -0.2588574660547922]\n",
      "[-0.02223146192291164, -0.09368672917243911, 0.039468748328902334, 0.7790081187770109, -0.16668284514077886, -0.16704133153406708, -0.4186422100492371, -0.04509113232178201, 0.4375858948331393, 0.12938341067348, -0.09148815058967813, 0.19161466361530338, -0.48301297859644715, 0.25638169420153867, 0.09313772906787694, 0.04550082477882566, 0.4447076280220472]\n",
      "[-0.005098710750186239, -0.23231364989518527, -0.7593884878534699, -0.7524842825517781, 0.06275639566723731, -0.4947893782440412, 0.017822620793727893, 0.33900416601140776, -0.2282159831508883, -0.7692655876051157, -0.3765339512896337, 0.02725580716979465, -0.05481991302052274, 0.39007438392364735, 0.665365965686223, -0.10721528757839352, -0.1700233322513463]\n",
      "[0.07252772497280421, 0.1356987131127636, -0.16801436168886766, 0.47049023264875195, -0.08459124162656244, -0.09893250532066061, 0.3937928459533817, 0.6101075422431768, 0.35659983290089525, -0.640614791838238, 0.22204575384485828, -0.03270428740325409, 0.41014417479533816, 0.10551469998563882, 0.0017329879070322762, 0.14865011608457712, 0.25619255768791754]\n",
      "error terms:\n",
      "[ 0.01961365 -0.00857371  0.          0.          0.          0.00693286\n",
      "  0.         -0.01487764]\n",
      "========================================================\n",
      "units : 4  ||  activation function : linear  ||  input_dim : 8\n",
      "weights :\n",
      "[0.11318561777500284, -1.1287882867915644, 0.28347673051131983, 0.3507016781364453, 0.2932096706993236, -0.6979827116613411, -0.5822173116604947, -0.18740465379996285, 0.6611479336651592]\n",
      "[0.007277153235822003, -0.48688415974759086, 0.476510778080918, -0.2254324047231116, -0.45885940839339273, -0.17737444672276137, -0.5650511601675088, -0.04939544611137214, -0.09467148513972477]\n",
      "[-0.002476009836239791, -0.33152075600859215, -0.23411268692630643, -0.21018464361123168, -0.3791345359487275, 0.4750530733635969, -0.15884005961861547, -0.5205464567959697, -0.7288625459638344]\n",
      "[-0.10875670943312717, 0.4659920378960503, -0.4020953734196045, 0.276420036192072, 0.1639096117739179, 0.24101378807781246, -0.3925891066024791, 0.05282238240330806, -0.23475011836590368]\n",
      "error terms:\n",
      "[-0.01563444 -0.00151168  0.00453678  0.0058669 ]\n",
      "========================================================\n",
      "units : 3  ||  activation function : relu  ||  input_dim : 4\n",
      "weights :\n",
      "[0.05517112411854101, 0.399335656493705, 0.5087971774740317, 0.42085046363495204, -1.1607592620588973]\n",
      "[-0.09623467684272734, -1.3033579837265905, -0.1260223801197826, 0.3781959735156087, 0.489088079092501]\n",
      "[-0.0180115495502693, 0.1736864508822352, 0.8830516025747251, -0.12369433140381342, 0.45170048558729675]\n",
      "error terms:\n",
      "[0.         0.01199556 0.        ]\n",
      "========================================================\n",
      "units : 3  ||  activation function : sigmoid  ||  input_dim : 3\n",
      "weights :\n",
      "[-0.8058073691114266, 0.3135045406212207, -0.5587896804382195, 1.440048618161547]\n",
      "[0.3238552332825817, -0.6809148751387886, -1.2087707247879933, 0.33934491874578054]\n",
      "[-0.5446029805051336, -0.24943723356775463, 0.9380570220932427, -0.7838112353085515]\n",
      "error terms:\n",
      "[-0.00548849 -0.00121464  0.0079531 ]\n",
      "========================================================\n"
     ]
    }
   ],
   "source": [
    "model.fit(X, Y, batch_size=1, epoch=50)\n",
    "model.summary()"
   ]
  },
  {
   "cell_type": "markdown",
   "metadata": {},
   "source": [
    "### Cell dibawah hanya untuk liat akurasi model saja"
   ]
  },
  {
   "cell_type": "code",
   "execution_count": 29,
   "metadata": {},
   "outputs": [],
   "source": [
    "model.fit(train_x, train_y, batch_size=1, epoch=500)"
   ]
  },
  {
   "cell_type": "code",
   "execution_count": 30,
   "metadata": {},
   "outputs": [],
   "source": [
    "y_pred = model.predict(test_x)"
   ]
  },
  {
   "cell_type": "code",
   "execution_count": 11,
   "metadata": {},
   "outputs": [],
   "source": [
    "decode_test_y = []\n",
    "for i in test_y:\n",
    "  decode_test_y.append(np.argmax(i))\n"
   ]
  },
  {
   "cell_type": "code",
   "execution_count": 31,
   "metadata": {},
   "outputs": [],
   "source": [
    "decode_pred_y = []\n",
    "for i in y_pred:\n",
    "  decode_pred_y.append(np.argmax(i))"
   ]
  },
  {
   "cell_type": "code",
   "execution_count": 32,
   "metadata": {},
   "outputs": [
    {
     "data": {
      "text/plain": [
       "0.9666666666666667"
      ]
     },
     "execution_count": 32,
     "metadata": {},
     "output_type": "execute_result"
    }
   ],
   "source": [
    "accuracy_score(y_pred=decode_pred_y, y_true=decode_test_y)"
   ]
  },
  {
   "cell_type": "code",
   "execution_count": 33,
   "metadata": {},
   "outputs": [
    {
     "data": {
      "text/plain": [
       "[<matplotlib.lines.Line2D at 0x7f036c993310>]"
      ]
     },
     "execution_count": 33,
     "metadata": {},
     "output_type": "execute_result"
    },
    {
     "data": {
      "image/png": "[encoded data removed]",
      "text/plain": [
       "<Figure size 432x288 with 1 Axes>"
      ]
     },
     "metadata": {
      "needs_background": "light"
     },
     "output_type": "display_data"
    }
   ],
   "source": [
    "plt.plot(model.errors)"
   ]
  }
 ],
 "metadata": {
  "interpreter": {
   "hash": "912a385c51eb6c5e7722deaa3d69ac233c1539832e74272ada8aaebb7d379777"
  },
  "kernelspec": {
   "display_name": "Python 3.8.10 ('artificialneuralnetwork-ptGnph6k-py3.8')",
   "language": "python",
   "name": "python3"
  },
  "language_info": {
   "codemirror_mode": {
    "name": "ipython",
    "version": 3
   },
   "file_extension": ".py",
   "mimetype": "text/x-python",
   "name": "python",
   "nbconvert_exporter": "python",
   "pygments_lexer": "ipython3",
   "version": "3.8.10"
  },
  "orig_nbformat": 4
 },
 "nbformat": 4,
 "nbformat_minor": 2
}
