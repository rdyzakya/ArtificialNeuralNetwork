{
 "cells": [
  {
   "cell_type": "code",
   "execution_count": 11,
   "metadata": {},
   "outputs": [],
   "source": [
    "import pandas as pd\n",
    "import numpy as np\n",
    "# from src.encoder import encode, decode\n",
    "from sklearn.model_selection import train_test_split\n",
    "from sklearn.metrics import accuracy_score\n",
    "from src.ANN import *"
   ]
  },
  {
   "cell_type": "code",
   "execution_count": 4,
   "metadata": {},
   "outputs": [],
   "source": [
    "df = pd.read_csv('Iris.csv')\n",
    "df = df.drop(['Id'],axis=1)\n",
    "\n",
    "x_train = df[['SepalLengthCm', 'SepalWidthCm', 'PetalLengthCm', 'PetalWidthCm']]\n",
    "y_train = df['Species'].map({\n",
    "    \"Iris-setosa\": 0,\n",
    "    \"Iris-versicolor\": 1,\n",
    "    \"Iris-virginica\": 2\n",
    "}).astype(int)"
   ]
  },
  {
   "cell_type": "code",
   "execution_count": 5,
   "metadata": {},
   "outputs": [],
   "source": [
    "labelled_y = []\n",
    "for i in y_train:\n",
    "    a = [0,0,0]\n",
    "    a[i] = 1\n",
    "    labelled_y.append(a)  "
   ]
  },
  {
   "cell_type": "code",
   "execution_count": 6,
   "metadata": {},
   "outputs": [],
   "source": [
    "X = np.array(x_train)\n",
    "Y = np.array(labelled_y)"
   ]
  },
  {
   "cell_type": "code",
   "execution_count": 31,
   "metadata": {},
   "outputs": [],
   "source": [
    "train_x, test_x, train_y, test_y = train_test_split(X, Y, test_size=0.20, random_state=420)"
   ]
  },
  {
   "cell_type": "code",
   "execution_count": 8,
   "metadata": {},
   "outputs": [],
   "source": [
    "model = Sequential(random_state=69)\n",
    "model.add(Dense(units=4, input_dim=4, activation_function=\"relu\"))\n",
    "model.add(Dense(units=3, activation_function=\"sigmoid\"))\n",
    "model.compile(\"sum_squared_error\", 0.0001, 0.01)\n"
   ]
  },
  {
   "cell_type": "code",
   "execution_count": 37,
   "metadata": {},
   "outputs": [
    {
     "name": "stdout",
     "output_type": "stream",
     "text": [
      "MODEL INFO\n",
      "========================================================\n",
      "units : 4  ||  activation function : relu  ||  input_dim : 4\n",
      "weights :\n",
      "[-0.015793357610737812, 0.821848365584048, -1.6445739055744208, 0.7888047504336285, -0.8605536490880769]\n",
      "[0.00810793761910828, -0.5554046742318594, 0.42198293699008094, 0.7220865335178495, 1.1910871835572456]\n",
      "[0.028398273911384414, 1.3298694306379553, 1.2911108778016973, -0.11295146603797823, -1.293174533439315]\n",
      "[-0.002191617862500624, -0.6139049322429716, 1.0494105690052407, -0.5295784947216928, -0.12664175984998685]\n",
      "error terms:\n",
      "[-0.00069642  0.00038525  0.00100444  0.        ]\n",
      "========================================================\n",
      "units : 3  ||  activation function : sigmoid  ||  input_dim : 4\n",
      "weights :\n",
      "[0.0037907357634730052, -0.4882125950643046, 0.27256185502436564, 0.7726016782787132, -1.1938555929843921]\n",
      "[2.183022355347933e-05, -1.9470793379792044, 0.9346125098500304, -1.1119589867660182, 0.16862651635885909]\n",
      "[1.8617883380255289e-09, -1.8486549738858122, -1.1699643214556585, -1.9819269436555882, -2.098612927916816]\n",
      "error terms:\n",
      "[1.33359537e-04 2.32848962e-06 1.89166133e-13]\n",
      "========================================================\n"
     ]
    }
   ],
   "source": [
    "model.fit(X, Y, batch_size=10, epoch=50)\n",
    "model.summary()"
   ]
  },
  {
   "cell_type": "markdown",
   "metadata": {},
   "source": [
    "### Cell dibawah hanya untuk liat akurasi model saja"
   ]
  },
  {
   "cell_type": "code",
   "execution_count": 38,
   "metadata": {},
   "outputs": [],
   "source": [
    "model.fit(train_x, train_y, batch_size=10, epoch=50)"
   ]
  },
  {
   "cell_type": "code",
   "execution_count": 39,
   "metadata": {},
   "outputs": [],
   "source": [
    "y_pred = model.predict(test_x)"
   ]
  },
  {
   "cell_type": "code",
   "execution_count": 40,
   "metadata": {},
   "outputs": [],
   "source": [
    "decode_test_y = []\n",
    "for i in test_y:\n",
    "  for j in range(len(i)):\n",
    "    if i[j] == 1:\n",
    "      decode_test_y.append(j)\n",
    "      break\n"
   ]
  },
  {
   "cell_type": "code",
   "execution_count": 41,
   "metadata": {},
   "outputs": [],
   "source": [
    "decode_pred_y = []\n",
    "threshold = 0.001\n",
    "for i in test_y:\n",
    "  for j in range(len(i)):\n",
    "    if abs(i[j]-1) < threshold:\n",
    "      decode_pred_y.append(j)\n",
    "      break"
   ]
  },
  {
   "cell_type": "code",
   "execution_count": 42,
   "metadata": {},
   "outputs": [
    {
     "data": {
      "text/plain": [
       "1.0"
      ]
     },
     "execution_count": 42,
     "metadata": {},
     "output_type": "execute_result"
    }
   ],
   "source": [
    "accuracy_score(y_pred=decode_pred_y, y_true=decode_test_y)"
   ]
  }
 ],
 "metadata": {
  "interpreter": {
   "hash": "912a385c51eb6c5e7722deaa3d69ac233c1539832e74272ada8aaebb7d379777"
  },
  "kernelspec": {
   "display_name": "Python 3.8.10 ('artificialneuralnetwork-ptGnph6k-py3.8')",
   "language": "python",
   "name": "python3"
  },
  "language_info": {
   "codemirror_mode": {
    "name": "ipython",
    "version": 3
   },
   "file_extension": ".py",
   "mimetype": "text/x-python",
   "name": "python",
   "nbconvert_exporter": "python",
   "pygments_lexer": "ipython3",
   "version": "3.8.10"
  },
  "orig_nbformat": 4
 },
 "nbformat": 4,
 "nbformat_minor": 2
}
