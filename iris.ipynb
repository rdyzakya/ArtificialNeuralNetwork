{
 "cells": [
  {
   "cell_type": "code",
   "execution_count": 1,
   "metadata": {},
   "outputs": [],
   "source": [
    "import pandas as pd\n",
    "import numpy as np\n",
    "# from src.encoder import encode, decode\n",
    "from sklearn.model_selection import train_test_split\n",
    "from sklearn.metrics import accuracy_score,confusion_matrix,f1_score,precision_score, recall_score,classification_report\n",
    "import matplotlib.pyplot as plt\n",
    "from src.ANN import *\n",
    "from src.dump import *\n",
    "from sklearn.model_selection import KFold\n",
    "from src.metrics import confusion_matrix_local,print_scores"
   ]
  },
  {
   "cell_type": "code",
   "execution_count": 2,
   "metadata": {},
   "outputs": [],
   "source": [
    "df = pd.read_csv('Iris.csv')\n",
    "df = df.drop(['Id'],axis=1)\n",
    "\n",
    "x_train = df[['SepalLengthCm', 'SepalWidthCm', 'PetalLengthCm', 'PetalWidthCm']]\n",
    "y_train = df['Species'].map({\n",
    "    \"Iris-setosa\": 0,\n",
    "    \"Iris-versicolor\": 1,\n",
    "    \"Iris-virginica\": 2\n",
    "}).astype(int)"
   ]
  },
  {
   "cell_type": "code",
   "execution_count": 3,
   "metadata": {},
   "outputs": [],
   "source": [
    "labelled_y = []\n",
    "for i in y_train:\n",
    "    a = [0,0,0]\n",
    "    a[i] = 1\n",
    "    labelled_y.append(a)  "
   ]
  },
  {
   "cell_type": "code",
   "execution_count": 4,
   "metadata": {},
   "outputs": [],
   "source": [
    "X = np.array(x_train)\n",
    "Y = np.array(labelled_y)"
   ]
  },
  {
   "cell_type": "code",
   "execution_count": 5,
   "metadata": {},
   "outputs": [],
   "source": [
    "train_x, test_x, train_y, test_y = train_test_split(X, Y, test_size=0.20, random_state=420)"
   ]
  },
  {
   "cell_type": "code",
   "execution_count": 6,
   "metadata": {},
   "outputs": [],
   "source": [
    "model = Sequential(random_state=42069)\n",
    "model.add(Dense(units=16, input_dim=4, activation_function=\"linear\"))\n",
    "model.add(Dense(units=8, activation_function=\"relu\"))\n",
    "model.add(Dense(units=4, activation_function=\"linear\"))\n",
    "model.add(Dense(units=3, activation_function=\"relu\"))\n",
    "model.add(Dense(units=3, activation_function=\"sigmoid\"))\n",
    "model.compile(\"sum_squared_error\", 0.0001, 0.001)\n"
   ]
  },
  {
   "cell_type": "code",
   "execution_count": 7,
   "metadata": {},
   "outputs": [],
   "source": [
    "# model.fit(X, Y, batch_size=1, epoch=50)\n",
    "# model.summary()"
   ]
  },
  {
   "cell_type": "markdown",
   "metadata": {},
   "source": [
    "### Pembelajaran train-test 90-10"
   ]
  },
  {
   "cell_type": "code",
   "execution_count": 8,
   "metadata": {},
   "outputs": [],
   "source": [
    "model.fit(train_x, train_y, batch_size=1, epoch=500)"
   ]
  },
  {
   "cell_type": "code",
   "execution_count": 9,
   "metadata": {},
   "outputs": [],
   "source": [
    "y_pred = model.predict(test_x)"
   ]
  },
  {
   "cell_type": "code",
   "execution_count": 10,
   "metadata": {},
   "outputs": [],
   "source": [
    "decode_test_y = []\n",
    "for i in test_y:\n",
    "  decode_test_y.append(np.argmax(i))"
   ]
  },
  {
   "cell_type": "code",
   "execution_count": 11,
   "metadata": {},
   "outputs": [],
   "source": [
    "decode_pred_y = []\n",
    "for i in y_pred:\n",
    "  decode_pred_y.append(np.argmax(i))"
   ]
  },
  {
   "cell_type": "code",
   "execution_count": 12,
   "metadata": {},
   "outputs": [
    {
     "name": "stdout",
     "output_type": "stream",
     "text": [
      "{0: 0, 1: 1, 2: 2}\n",
      "confusion matrix:\n",
      "[[13  0  0]\n",
      " [ 0  9  0]\n",
      " [ 0  2  6]]\n",
      "Performance Metrics:\n",
      "====== attribute:  0 ======\n",
      "precision: 1.0\n",
      "recall: 1.0\n",
      "f1: 1.0\n",
      "\n",
      "====== attribute:  1 ======\n",
      "precision: 1.0\n",
      "recall: 0.8181818181818182\n",
      "f1: 0.9\n",
      "\n",
      "====== attribute:  2 ======\n",
      "precision: 0.75\n",
      "recall: 1.0\n",
      "f1: 0.8571428571428571\n",
      "\n",
      "---- accuracy ----\n",
      "0.9333333333333333\n",
      "\n",
      "\n",
      "confusion matrix from sklearn:\n",
      "[[13  0  0]\n",
      " [ 0  9  2]\n",
      " [ 0  0  6]]\n",
      "Performance Metrics from sklearn:\n",
      "              precision    recall  f1-score   support\n",
      "\n",
      "           0      1.000     1.000     1.000        13\n",
      "           1      1.000     0.818     0.900        11\n",
      "           2      0.750     1.000     0.857         6\n",
      "\n",
      "    accuracy                          0.933        30\n",
      "   macro avg      0.917     0.939     0.919        30\n",
      "weighted avg      0.950     0.933     0.935        30\n",
      "\n"
     ]
    }
   ],
   "source": [
    "# print(\"predicted label:\")\n",
    "# print(decode_pred_y)\n",
    "# print(\"true label:\")\n",
    "# print(decode_test_y)\n",
    "conf_mat = confusion_matrix_local(decode_pred_y, decode_test_y)\n",
    "print(\"confusion matrix:\")\n",
    "print(conf_mat)\n",
    "print(\"Performance Metrics:\")\n",
    "print_scores(conf_mat,[0,1,2])\n",
    "print(\"\\n\")\n",
    "print(\"confusion matrix from sklearn:\")\n",
    "print(confusion_matrix(y_pred=decode_pred_y, y_true=decode_test_y))\n",
    "print(\"Performance Metrics from sklearn:\")\n",
    "print(classification_report(y_pred=decode_pred_y, y_true=decode_test_y, digits=3))\n",
    "\n"
   ]
  },
  {
   "cell_type": "markdown",
   "metadata": {},
   "source": [
    "### Pembelajaran cross validation"
   ]
  },
  {
   "cell_type": "code",
   "execution_count": 13,
   "metadata": {},
   "outputs": [],
   "source": [
    "model.reset()"
   ]
  },
  {
   "cell_type": "code",
   "execution_count": 14,
   "metadata": {},
   "outputs": [
    {
     "name": "stdout",
     "output_type": "stream",
     "text": [
      "[0, 0, 0, 0, 0, 0, 0, 0, 0, 0, 0, 0, 0, 0, 0]\n",
      "[0, 0, 0, 0, 0, 0, 0, 0, 0, 0, 0, 0, 0, 0, 0]\n",
      "{0: 0}\n",
      "Performance Metrics:\n",
      "[0]\n",
      "====== attribute:  0 ======\n",
      "precision: 1.0\n",
      "recall: 1.0\n",
      "f1: 1.0\n",
      "\n",
      "---- accuracy ----\n",
      "1.0\n",
      "[0, 0, 0, 0, 0, 0, 0, 0, 0, 0, 0, 0, 0, 0, 0]\n",
      "[0, 0, 0, 0, 0, 0, 0, 0, 0, 0, 0, 0, 0, 0, 0]\n",
      "{0: 0}\n",
      "Performance Metrics:\n",
      "[0]\n",
      "====== attribute:  0 ======\n",
      "precision: 1.0\n",
      "recall: 1.0\n",
      "f1: 1.0\n",
      "\n",
      "---- accuracy ----\n",
      "1.0\n",
      "[0, 0, 0, 0, 0, 0, 0, 0, 0, 0, 0, 0, 0, 0, 0]\n",
      "[0, 0, 0, 0, 0, 0, 0, 0, 0, 0, 0, 0, 0, 0, 0]\n",
      "{0: 0}\n",
      "Performance Metrics:\n",
      "[0]\n",
      "====== attribute:  0 ======\n",
      "precision: 1.0\n",
      "recall: 1.0\n",
      "f1: 1.0\n",
      "\n",
      "---- accuracy ----\n",
      "1.0\n",
      "[0, 0, 0, 0, 0, 1, 2, 2, 2, 2, 2, 2, 1, 1, 2]\n",
      "[0, 0, 0, 0, 0, 1, 1, 1, 1, 1, 1, 1, 1, 1, 1]\n",
      "{0: 0, 1: 1, 2: 2}\n",
      "Performance Metrics:\n",
      "[0 1 2]\n",
      "====== attribute:  0 ======\n",
      "precision: 1.0\n",
      "recall: 1.0\n",
      "f1: 1.0\n",
      "\n",
      "====== attribute:  1 ======\n",
      "precision: 1.0\n",
      "recall: 0.3\n",
      "f1: 0.4615384615384615\n",
      "\n",
      "====== attribute:  2 ======\n",
      "precision: 0.0\n",
      "recall: 0\n",
      "f1: 0\n",
      "\n",
      "---- accuracy ----\n",
      "0.5333333333333333\n"
     ]
    },
    {
     "name": "stderr",
     "output_type": "stream",
     "text": [
      "d:\\Document\\Perkuliahan\\Kuliah_Semester_6\\ML\\ArtificialNeuralNetwork\\src\\metrics.py:56: RuntimeWarning: invalid value encountered in long_scalars\n",
      "  print(\"recall:\", 0 if math.isnan((tp)/(tp+fn)) else (tp)/(tp+fn))\n",
      "d:\\Document\\Perkuliahan\\Kuliah_Semester_6\\ML\\ArtificialNeuralNetwork\\src\\metrics.py:57: RuntimeWarning: invalid value encountered in long_scalars\n",
      "  print(\"f1:\", f1((tp)/(tp+fp), (tp)/(tp+fn)))\n"
     ]
    },
    {
     "name": "stdout",
     "output_type": "stream",
     "text": [
      "[1, 1, 1, 1, 1, 1, 2, 1, 1, 1, 2, 1, 2, 1, 1]\n",
      "[1, 1, 1, 1, 1, 1, 1, 1, 1, 1, 1, 1, 1, 1, 1]\n",
      "{1: 0, 2: 1}\n",
      "Performance Metrics:\n",
      "[1 2]\n",
      "====== attribute:  1 ======\n",
      "precision: 1.0\n",
      "recall: 0.8\n",
      "f1: 0.888888888888889\n",
      "\n",
      "====== attribute:  2 ======\n",
      "precision: 0.0\n",
      "recall: 0\n",
      "f1: 0\n",
      "\n",
      "---- accuracy ----\n",
      "0.8\n"
     ]
    },
    {
     "name": "stderr",
     "output_type": "stream",
     "text": [
      "d:\\Document\\Perkuliahan\\Kuliah_Semester_6\\ML\\ArtificialNeuralNetwork\\src\\metrics.py:56: RuntimeWarning: invalid value encountered in long_scalars\n",
      "  print(\"recall:\", 0 if math.isnan((tp)/(tp+fn)) else (tp)/(tp+fn))\n",
      "d:\\Document\\Perkuliahan\\Kuliah_Semester_6\\ML\\ArtificialNeuralNetwork\\src\\metrics.py:57: RuntimeWarning: invalid value encountered in long_scalars\n",
      "  print(\"f1:\", f1((tp)/(tp+fp), (tp)/(tp+fn)))\n"
     ]
    },
    {
     "name": "stdout",
     "output_type": "stream",
     "text": [
      "[1, 1, 2, 1, 1, 1, 1, 1, 2, 2, 1, 1, 1, 1, 1]\n",
      "[1, 1, 1, 1, 1, 1, 1, 1, 1, 1, 1, 1, 1, 1, 1]\n",
      "{1: 0, 2: 1}\n",
      "Performance Metrics:\n",
      "[1 2]\n",
      "====== attribute:  1 ======\n",
      "precision: 1.0\n",
      "recall: 0.8\n",
      "f1: 0.888888888888889\n",
      "\n",
      "====== attribute:  2 ======\n",
      "precision: 0.0\n",
      "recall: 0\n",
      "f1: 0\n",
      "\n",
      "---- accuracy ----\n",
      "0.8\n"
     ]
    },
    {
     "name": "stderr",
     "output_type": "stream",
     "text": [
      "d:\\Document\\Perkuliahan\\Kuliah_Semester_6\\ML\\ArtificialNeuralNetwork\\src\\metrics.py:56: RuntimeWarning: invalid value encountered in long_scalars\n",
      "  print(\"recall:\", 0 if math.isnan((tp)/(tp+fn)) else (tp)/(tp+fn))\n",
      "d:\\Document\\Perkuliahan\\Kuliah_Semester_6\\ML\\ArtificialNeuralNetwork\\src\\metrics.py:57: RuntimeWarning: invalid value encountered in long_scalars\n",
      "  print(\"f1:\", f1((tp)/(tp+fp), (tp)/(tp+fn)))\n"
     ]
    },
    {
     "name": "stdout",
     "output_type": "stream",
     "text": [
      "[1, 1, 1, 1, 1, 1, 1, 1, 1, 1, 2, 2, 2, 2, 2]\n",
      "[1, 1, 1, 1, 1, 1, 1, 1, 1, 1, 2, 2, 2, 2, 2]\n",
      "{1: 0, 2: 1}\n",
      "Performance Metrics:\n",
      "[1 2]\n",
      "====== attribute:  1 ======\n",
      "precision: 1.0\n",
      "recall: 1.0\n",
      "f1: 1.0\n",
      "\n",
      "====== attribute:  2 ======\n",
      "precision: 1.0\n",
      "recall: 1.0\n",
      "f1: 1.0\n",
      "\n",
      "---- accuracy ----\n",
      "1.0\n",
      "[2, 2, 2, 2, 2, 2, 2, 2, 2, 2, 2, 2, 2, 2, 2]\n",
      "[2, 2, 2, 2, 2, 2, 2, 2, 2, 2, 2, 2, 2, 2, 2]\n",
      "{2: 0}\n",
      "Performance Metrics:\n",
      "[2]\n",
      "====== attribute:  2 ======\n",
      "precision: 1.0\n",
      "recall: 1.0\n",
      "f1: 1.0\n",
      "\n",
      "---- accuracy ----\n",
      "1.0\n",
      "[2, 2, 2, 2, 2, 2, 2, 2, 2, 1, 2, 2, 2, 1, 2]\n",
      "[2, 2, 2, 2, 2, 2, 2, 2, 2, 2, 2, 2, 2, 2, 2]\n",
      "{1: 0, 2: 1}\n",
      "Performance Metrics:\n",
      "[1 2]\n",
      "====== attribute:  1 ======\n",
      "precision: 0.0\n",
      "recall: 0\n",
      "f1: 0\n",
      "\n",
      "====== attribute:  2 ======\n",
      "precision: 1.0\n",
      "recall: 0.8666666666666667\n",
      "f1: 0.9285714285714286\n",
      "\n",
      "---- accuracy ----\n",
      "0.8666666666666667\n"
     ]
    },
    {
     "name": "stderr",
     "output_type": "stream",
     "text": [
      "d:\\Document\\Perkuliahan\\Kuliah_Semester_6\\ML\\ArtificialNeuralNetwork\\src\\metrics.py:56: RuntimeWarning: invalid value encountered in long_scalars\n",
      "  print(\"recall:\", 0 if math.isnan((tp)/(tp+fn)) else (tp)/(tp+fn))\n",
      "d:\\Document\\Perkuliahan\\Kuliah_Semester_6\\ML\\ArtificialNeuralNetwork\\src\\metrics.py:57: RuntimeWarning: invalid value encountered in long_scalars\n",
      "  print(\"f1:\", f1((tp)/(tp+fp), (tp)/(tp+fn)))\n"
     ]
    },
    {
     "name": "stdout",
     "output_type": "stream",
     "text": [
      "[2, 2, 2, 2, 2, 2, 2, 2, 2, 2, 2, 2, 2, 2, 2]\n",
      "[2, 2, 2, 2, 2, 2, 2, 2, 2, 2, 2, 2, 2, 2, 2]\n",
      "{2: 0}\n",
      "Performance Metrics:\n",
      "[2]\n",
      "====== attribute:  2 ======\n",
      "precision: 1.0\n",
      "recall: 1.0\n",
      "f1: 1.0\n",
      "\n",
      "---- accuracy ----\n",
      "1.0\n"
     ]
    }
   ],
   "source": [
    "accurations = []\n",
    "num_data = len(X)\n",
    "k_fold = 10\n",
    "# kf = KFold(n_splits=k_fold)\n",
    "# for train, test in kf.split(X):\n",
    "#   train_x, test_x = X[train], X[test]\n",
    "#   train_y, test_y = Y[train], Y[test]\n",
    "#   print(train_x.shape)\n",
    "#   print(test_x.shape)\n",
    "test_size = num_data//k_fold\n",
    "test_slice_x = []\n",
    "test_slice_y = []\n",
    "remainder_x = []\n",
    "remainder_y = []\n",
    "total_pred_y = []\n",
    "total_test_y = []\n",
    "\n",
    "# X[:test_size]\n",
    "# test_size\n",
    "# num_data\n",
    "\n",
    "for i in range(k_fold):\n",
    "  if i == 0:\n",
    "    test_slice_x, remainder_x = X[:test_size], X[test_size:]\n",
    "    test_slice_y, remainder_y = Y[:test_size], Y[test_size:]\n",
    "  else:\n",
    "    start = (i-1)*(test_size)\n",
    "    end = min(start + (test_size), num_data)\n",
    "    remainder_x[start:end], test_slice_x = test_slice_x, remainder_x[start:end].copy()\n",
    "    remainder_y[start:end], test_slice_y = test_slice_y, remainder_y[start:end].copy()\n",
    "  # print(test_slice_y)\n",
    "  # # print(y_test)\n",
    "  # print('test_x: ', test_slice_x, 'train_x:', remainder_x)\n",
    "  # print('test_y: ', test_slice_y, 'train_y: ', remainder_y)\n",
    "  model.fit(remainder_x, remainder_y, batch_size=1, epoch=500)\n",
    "  y_pred = model.predict(test_slice_x)\n",
    "  decode_test_y = []\n",
    "  for i in test_slice_y:\n",
    "    decode_test_y.append(np.argmax(i))\n",
    "  decode_pred_y = []\n",
    "  for i in y_pred:\n",
    "    decode_pred_y.append(np.argmax(i))\n",
    "  \n",
    "  # total_pred_y += decode_pred_y\n",
    "  # total_test_y += decode_test_y\n",
    "  print(decode_pred_y)\n",
    "  print(decode_test_y)\n",
    "  conf_mat = confusion_matrix_local(decode_pred_y, decode_test_y)\n",
    "  print(\"Performance Metrics:\")\n",
    "  temp_list = decode_pred_y + decode_test_y\n",
    "  temp_np = np.array(temp_list)\n",
    "  classes = np.unique(temp_np)\n",
    "  print(classes)\n",
    "  print_scores(conf_mat,classes)\n",
    "  accurations.append(accuracy_score(y_pred=decode_pred_y, y_true=decode_test_y))\n",
    "  model.reset()\n",
    "\n",
    "# print(\"predicted label:\")\n",
    "# print(total_pred_y)\n",
    "# print(\"true label:\")\n",
    "# print(total_test_y)\n",
    "# print(\"accuracy:\")\n",
    "# print(accuracy_score(y_pred=total_pred_y, y_true=total_test_y))\n",
    "# print(\"confusion matrix:\")\n",
    "# print(confusion_matrix(total_pred_y, total_test_y))\n"
   ]
  },
  {
   "cell_type": "code",
   "execution_count": 15,
   "metadata": {},
   "outputs": [
    {
     "data": {
      "text/plain": [
       "[1.0,\n",
       " 1.0,\n",
       " 1.0,\n",
       " 0.5333333333333333,\n",
       " 0.8,\n",
       " 0.8,\n",
       " 1.0,\n",
       " 1.0,\n",
       " 0.8666666666666667,\n",
       " 1.0]"
      ]
     },
     "execution_count": 15,
     "metadata": {},
     "output_type": "execute_result"
    }
   ],
   "source": [
    "accurations"
   ]
  },
  {
   "cell_type": "code",
   "execution_count": 16,
   "metadata": {},
   "outputs": [
    {
     "data": {
      "text/plain": [
       "0.9"
      ]
     },
     "execution_count": 16,
     "metadata": {},
     "output_type": "execute_result"
    }
   ],
   "source": [
    "np.average(accurations)"
   ]
  },
  {
   "cell_type": "markdown",
   "metadata": {},
   "source": [
    "### Pembelajaran full training"
   ]
  },
  {
   "cell_type": "code",
   "execution_count": 17,
   "metadata": {},
   "outputs": [],
   "source": [
    "model.fit(X, Y, batch_size=1, epoch=500)"
   ]
  },
  {
   "cell_type": "code",
   "execution_count": 18,
   "metadata": {},
   "outputs": [
    {
     "name": "stdout",
     "output_type": "stream",
     "text": [
      "instance:  [[5 4 3 2]]\n",
      "Predicted label: Iris-versicolor\n"
     ]
    }
   ],
   "source": [
    "# Dump model\n",
    "dump(model, \"fulltraining_model.json\")\n",
    "\n",
    "# Load data model\n",
    "loaded_data = load(\"fulltraining_model.json\")\n",
    "\n",
    "loaded_model = Sequential()\n",
    "loaded_model.useJSON(loaded_data)\n",
    "\n",
    "instance = np.array([[5,4,3,2]])\n",
    "print(\"instance: \", instance)\n",
    "result = model.predict(instance)[0]\n",
    "labels = [\"Iris-setosa\",\"Iris-versicolor\",\"Iris-virginica\"]\n",
    "label = \"none\"\n",
    "for i in range(len(result)):\n",
    "  if(result[i] == np.max(result)):\n",
    "      label = labels[i]\n",
    "      break\n",
    "print(\"Predicted label:\", label)"
   ]
  },
  {
   "cell_type": "markdown",
   "metadata": {},
   "source": [
    "### Analisis hasil\n",
    "\n",
    "Berdasarkan pengujian yang dilakukan terhadap terhadap skema data split train 90% dan test 10%, model yang diimplementasi paling baik mengklasifikasi kelas setosa, ditunjukkan dengan akurasi dan presisi yang sempurna dari test set. di sisi lain, model memiliki kecenderungan lebih untuk mengklasifikasi virginica, ditunjukkan dengan adanya false positive untuk kelas tersebut, model juga tampaknya lebih sukar untuk mengklasifikasi versicolor karena terdapat false negative.\n",
    "\n",
    "Dalam eksekusi kali ini juga, data tidak melalui tahap preprocessing sehingga ada kemungkinan bahwa model belum melakukan performa terbaik"
   ]
  },
  {
   "cell_type": "code",
   "execution_count": 31,
   "metadata": {},
   "outputs": [
    {
     "data": {
      "image/png": "[encoded data removed]",
      "text/plain": [
       "<Figure size 432x288 with 1 Axes>"
      ]
     },
     "metadata": {
      "needs_background": "light"
     },
     "output_type": "display_data"
    }
   ],
   "source": [
    "import matplotlib.pyplot as plt\n",
    "\n",
    "plt.plot(model.errors)\n",
    "plt.title(\"Model sum squared error\")\n",
    "plt.show()"
   ]
  },
  {
   "cell_type": "markdown",
   "metadata": {},
   "source": []
  }
 ],
 "metadata": {
  "interpreter": {
   "hash": "912a385c51eb6c5e7722deaa3d69ac233c1539832e74272ada8aaebb7d379777"
  },
  "kernelspec": {
   "display_name": "Python 3.8.10 ('artificialneuralnetwork-ptGnph6k-py3.8')",
   "language": "python",
   "name": "python3"
  },
  "language_info": {
   "codemirror_mode": {
    "name": "ipython",
    "version": 3
   },
   "file_extension": ".py",
   "mimetype": "text/x-python",
   "name": "python",
   "nbconvert_exporter": "python",
   "pygments_lexer": "ipython3",
   "version": "3.9.7"
  },
  "orig_nbformat": 4
 },
 "nbformat": 4,
 "nbformat_minor": 2
}
