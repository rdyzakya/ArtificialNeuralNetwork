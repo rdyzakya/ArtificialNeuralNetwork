{
 "cells": [
  {
   "cell_type": "code",
   "execution_count": 103,
   "metadata": {},
   "outputs": [],
   "source": [
    "import pandas as pd\n",
    "import numpy as np\n",
    "# from src.encoder import encode, decode\n",
    "from sklearn.model_selection import train_test_split\n",
    "from sklearn.metrics import accuracy_score\n",
    "import matplotlib.pyplot as plt\n",
    "from src.ANN import *\n",
    "from sklearn.model_selection import KFold\n",
    "from src.metrics import confusion_matrix"
   ]
  },
  {
   "cell_type": "code",
   "execution_count": 104,
   "metadata": {},
   "outputs": [],
   "source": [
    "df = pd.read_csv('Iris.csv')\n",
    "df = df.drop(['Id'],axis=1)\n",
    "\n",
    "x_train = df[['SepalLengthCm', 'SepalWidthCm', 'PetalLengthCm', 'PetalWidthCm']]\n",
    "y_train = df['Species'].map({\n",
    "    \"Iris-setosa\": 0,\n",
    "    \"Iris-versicolor\": 1,\n",
    "    \"Iris-virginica\": 2\n",
    "}).astype(int)"
   ]
  },
  {
   "cell_type": "code",
   "execution_count": 105,
   "metadata": {},
   "outputs": [],
   "source": [
    "labelled_y = []\n",
    "for i in y_train:\n",
    "    a = [0,0,0]\n",
    "    a[i] = 1\n",
    "    labelled_y.append(a)  "
   ]
  },
  {
   "cell_type": "code",
   "execution_count": 106,
   "metadata": {},
   "outputs": [],
   "source": [
    "X = np.array(x_train)\n",
    "Y = np.array(labelled_y)"
   ]
  },
  {
   "cell_type": "code",
   "execution_count": 107,
   "metadata": {},
   "outputs": [],
   "source": [
    "train_x, test_x, train_y, test_y = train_test_split(X, Y, test_size=0.20, random_state=420)"
   ]
  },
  {
   "cell_type": "code",
   "execution_count": 108,
   "metadata": {},
   "outputs": [],
   "source": [
    "model = Sequential(random_state=42069)\n",
    "model.add(Dense(units=16, input_dim=4, activation_function=\"linear\"))\n",
    "model.add(Dense(units=8, activation_function=\"relu\"))\n",
    "model.add(Dense(units=4, activation_function=\"linear\"))\n",
    "model.add(Dense(units=3, activation_function=\"relu\"))\n",
    "model.add(Dense(units=3, activation_function=\"sigmoid\"))\n",
    "model.compile(\"sum_squared_error\", 0.0001, 0.001)\n"
   ]
  },
  {
   "cell_type": "code",
   "execution_count": 109,
   "metadata": {},
   "outputs": [
    {
     "name": "stdout",
     "output_type": "stream",
     "text": [
      "MODEL INFO\n",
      "========================================================\n",
      "units : 16  ||  activation function : linear  ||  input_dim : 4\n",
      "weights :\n",
      "[0.0021933410382560885, -0.001022520693670169, 0.1306102670359696, 0.45901957098035373, -0.05332000081754657]\n",
      "[0.003216871513581527, -0.08049051877345345, -0.07279540987677409, 0.45282037841910594, -0.08227728326018513]\n",
      "[0.0037187627308950246, 0.11005287775878177, -0.3820373436917025, 0.3470687824994323, -0.03452313106130221]\n",
      "[0.0007357845872829988, 0.17791445671518985, 0.17574692788445004, 0.001839631673286147, 0.09413683878293158]\n",
      "[-0.0019884454304422805, 0.2587917679081659, -0.046048028960387205, -0.14827899838925532, -0.20562779309869367]\n",
      "[0.004351738247555762, -0.1563850042388732, 0.18233917173274297, -0.07081485512170174, -0.1969065348765972]\n",
      "[0.002901088796596139, 0.17377428135343054, 0.22347174939102749, -0.03804289124847361, -0.47614184670281795]\n",
      "[0.006714461037831053, -0.02467156694110924, -0.004511892245086892, -0.30018759843047876, 0.3584046854278444]\n",
      "[0.0021195658795323358, -0.4484861722943139, -0.3049345501677915, 0.1681601720963905, 0.5374327822794013]\n",
      "[0.0016450771067377582, 0.3665198441905557, 0.47402109182792435, 0.2130799635350327, -0.33898089842805657]\n",
      "[0.0016688774629884486, -0.5052147778048629, -0.29073781349371897, -0.05007140720397329, 0.02634827972038466]\n",
      "[0.0022502139653802324, -0.005696773510671797, -0.08526673469581393, -0.16105297425250534, -0.29822685838316065]\n",
      "[-0.00040332639530484324, 0.10371558893742307, 0.07005726027484517, -0.06934703888124223, 0.1547914700348992]\n",
      "[-0.0006363616671897648, -0.4438533677003476, -0.11750062085143817, 0.5416354169183868, 0.23927360403265008]\n",
      "[0.0024801781761365463, -0.1392228022373991, 0.14447226210753547, 0.4571143965582281, 0.3123508429506016]\n",
      "[0.0011969463326307848, 0.3650722766195393, -0.1347072531421377, 0.1168345494423759, -0.042980827798242034]\n",
      "error terms:\n",
      "[ 0.02838686  0.06490814 -0.02314185  0.06221881 -0.02988579 -0.0048045\n",
      " -0.08113371  0.06889603  0.0732565   0.02822453 -0.01870493 -0.07568997\n",
      "  0.01641258  0.03064968 -0.01951024 -0.05624709]\n",
      "========================================================\n",
      "units : 8  ||  activation function : relu  ||  input_dim : 16\n",
      "weights :\n",
      "[0.004163495918898034, 0.384560431473449, 0.5284284134727623, 0.0018247350751623673, 0.5629074749502307, -0.3416233005720052, 0.2754933057688333, -0.48871807065174394, 0.8563069771503731, 0.3179401295807426, 0.3720545149897448, -0.18003025504351605, -0.40750264202425435, 0.18518332567439655, 0.3809985204759965, -0.12957811334514652, -0.5425271228486995]\n",
      "[-0.0037571549294298894, 0.12267520047079634, 0.0003906719939130044, 0.4159667710450227, 0.1562305847594341, 0.27714014944429793, -0.24904033025385344, -0.6376177880654612, 0.019364202340325064, -0.45552994430233396, 0.3107922981480244, -0.35484139198502573, -0.35315236610913797, 0.15055774731527446, 0.2194712351838215, -0.44243424254364316, -0.45517139512641097]\n",
      "[-0.0004779625599317251, 0.03363891614410926, -0.03597049120775061, -0.29361628107773025, -0.28908830875228536, -0.437728403598487, 0.0023845232977894194, -0.27511906451146606, -0.05316305486591425, 0.193862144241744, -0.11847825425133357, -0.4420100484518533, -0.14508427086002998, 0.3450294575742771, 0.4386720282876404, -0.38962646329830264, 0.1187249352434055]\n",
      "[0.0, -0.03591632779822099, -0.5278900736511297, -0.13114249107609888, -0.35511388349861234, -0.25642821459287973, -0.4757553141736754, 0.014371100759347808, -0.05550968792131981, -0.23033661729508612, -0.251692487109167, 0.27788624897181075, -0.7503286582775411, -0.19427978211403577, 0.3821927364706813, 0.4398053289123584, -0.17026684053263372]\n",
      "[0.0, -0.5553697350426329, 0.3363079180221726, -0.1046109011077245, 0.6025318572550901, 0.050655746253266395, 0.271490401148398, 0.3997309153396754, -0.06443739759719959, 0.4890935551916679, 0.2482611358638264, 0.5243385403521074, 0.06337219711662084, -0.33154374050697577, -0.29831613764790665, 0.6419842176801821, -0.2588574660547922]\n",
      "[0.00045095587111155014, -0.09825975266846096, 0.02040774815012488, 0.7652979223162049, -0.1566971097139578, -0.14503257911496656, -0.4124111392501259, -0.015264993857153537, 0.43051254585727067, 0.07256443686865403, -0.05194796410035559, 0.15650216216866805, -0.47284048393084965, 0.26133917488763025, 0.049863334305109565, 0.026065065756093637, 0.4535424394081931]\n",
      "[-0.00263764195189688, -0.22917714722753108, -0.7598288522018899, -0.7527631249717407, 0.06712113847577107, -0.49197494577341977, 0.017458120368349962, 0.34315785425125783, -0.22908081069577418, -0.7786924617375729, -0.36563777069045755, 0.016877195003324685, -0.056192447645126306, 0.3921513876186192, 0.6601805901592043, -0.10625448750526895, -0.16636061682013478]\n",
      "[0.006181172557428947, 0.10626144128218472, -0.14829426855740163, 0.4699409536918553, -0.13468096414855038, -0.1549096860104908, 0.3905835879283486, 0.5379359675107024, 0.3755715756088462, -0.47969023154221996, 0.07276799084324269, 0.10483850026013339, 0.40681412254486454, 0.08225495820182814, 0.09424491360078947, 0.1669421857330084, 0.2095211783720196]\n",
      "error terms:\n",
      "[ 0.1021307  -0.01151802  0.          0.          0.          0.01946238\n",
      "  0.         -0.0711359 ]\n",
      "========================================================\n",
      "units : 4  ||  activation function : linear  ||  input_dim : 8\n",
      "weights :\n",
      "[0.006955229993726636, -0.9197947863586247, 0.016756394991284885, 0.3508234729363227, 0.2932096706993236, -0.6979827116613411, -0.4531555936191102, -0.18740465379996285, 0.42771409388107823]\n",
      "[-0.009492436132165402, -0.35025448531942266, 0.47932933213651496, -0.2254198527839567, -0.45885940839339273, -0.17737444672276137, -0.512593590792346, -0.04939544611137214, -0.12398980506475428]\n",
      "[-0.002039825930564518, -0.28882634498007986, -0.22386913008475628, -0.21020959887131424, -0.3791345359487275, 0.4750530733635969, -0.15853168461309244, -0.5205464567959697, -0.7218656375818736]\n",
      "[-0.0032657740879459113, 0.1880162628954414, -0.14658523937711238, 0.27635704073619594, 0.1639096117739179, 0.24101378807781246, -0.5130179233630353, 0.05282238240330806, -0.016043890527655806]\n",
      "error terms:\n",
      "[-0.11359192  0.00751361  0.02892611  0.04594954]\n",
      "========================================================\n",
      "units : 3  ||  activation function : relu  ||  input_dim : 4\n",
      "weights :\n",
      "[-0.0035397001415927846, 0.061603757754292256, 0.33401590147600857, 0.4489507172212628, -1.0785665565393878]\n",
      "[-0.008489769457404059, -0.9789175342029965, 0.06474737431759783, 0.24924822902854538, 0.3959658872603053]\n",
      "[-0.008737712631381995, 0.1374395899642792, 0.881486716148559, -0.17341021196166018, 0.4371248448865685]\n",
      "error terms:\n",
      "[0.         0.11604141 0.        ]\n",
      "========================================================\n",
      "units : 3  ||  activation function : sigmoid  ||  input_dim : 3\n",
      "weights :\n",
      "[-0.05414232916164967, 0.2679623807892627, -0.12795404377083744, 1.389136421447327]\n",
      "[-0.016211892892090483, -0.28341048855691714, -1.1552706474318986, 0.6735675281299344]\n",
      "[-0.029574515020872664, -0.0800753788827237, 0.6695090575783322, -0.6391293943542407]\n",
      "error terms:\n",
      "[-0.11271499 -0.04273133  0.07804955]\n",
      "========================================================\n"
     ]
    }
   ],
   "source": [
    "model.fit(X, Y, batch_size=1, epoch=50)\n",
    "model.summary()"
   ]
  },
  {
   "cell_type": "markdown",
   "metadata": {},
   "source": [
    "### Cell dibawah hanya untuk liat akurasi model saja"
   ]
  },
  {
   "cell_type": "code",
   "execution_count": 110,
   "metadata": {},
   "outputs": [],
   "source": [
    "model.fit(train_x, train_y, batch_size=1, epoch=500)"
   ]
  },
  {
   "cell_type": "code",
   "execution_count": 111,
   "metadata": {},
   "outputs": [],
   "source": [
    "y_pred = model.predict(test_x)"
   ]
  },
  {
   "cell_type": "code",
   "execution_count": 112,
   "metadata": {},
   "outputs": [
    {
     "name": "stdout",
     "output_type": "stream",
     "text": [
      "[1, 2, 2, 0, 0, 1, 0, 1, 2, 1, 2, 1, 0, 0, 2, 1, 0, 0, 0, 0, 0, 2, 1, 0, 1, 1, 0, 0, 1, 1]\n"
     ]
    }
   ],
   "source": [
    "decode_test_y = []\n",
    "for i in test_y:\n",
    "  decode_test_y.append(np.argmax(i))\n",
    "print(decode_test_y)\n"
   ]
  },
  {
   "cell_type": "code",
   "execution_count": 113,
   "metadata": {},
   "outputs": [
    {
     "name": "stdout",
     "output_type": "stream",
     "text": [
      "[2, 2, 2, 0, 0, 1, 0, 1, 2, 1, 2, 2, 0, 0, 2, 1, 0, 0, 0, 0, 0, 2, 1, 0, 1, 1, 0, 0, 1, 1]\n"
     ]
    }
   ],
   "source": [
    "decode_pred_y = []\n",
    "for i in y_pred:\n",
    "  decode_pred_y.append(np.argmax(i))\n",
    "print(decode_pred_y)"
   ]
  },
  {
   "cell_type": "code",
   "execution_count": 114,
   "metadata": {},
   "outputs": [
    {
     "data": {
      "text/plain": [
       "0.9333333333333333"
      ]
     },
     "execution_count": 114,
     "metadata": {},
     "output_type": "execute_result"
    }
   ],
   "source": [
    "accuracy_score(y_pred=decode_pred_y, y_true=decode_test_y)"
   ]
  },
  {
   "cell_type": "code",
   "execution_count": 115,
   "metadata": {},
   "outputs": [
    {
     "name": "stdout",
     "output_type": "stream",
     "text": [
      "confusion matrix:\n",
      "{0: 0, 1: 1, 2: 2}\n",
      "[[13  0  0]\n",
      " [ 0  9  0]\n",
      " [ 0  2  6]]\n"
     ]
    }
   ],
   "source": [
    "print(\"confusion matrix:\")\n",
    "print(confusion_matrix(decode_pred_y, decode_test_y))"
   ]
  },
  {
   "cell_type": "markdown",
   "metadata": {},
   "source": [
    "### Cell dibawah untuk cross validation"
   ]
  },
  {
   "cell_type": "code",
   "execution_count": 116,
   "metadata": {},
   "outputs": [
    {
     "name": "stdout",
     "output_type": "stream",
     "text": [
      "[2, 2, 2, 2, 2, 2, 2, 2, 2, 2, 2, 2, 2, 2, 2]\n",
      "[2, 2, 2, 2, 2, 2, 2, 2, 2, 2, 2, 2, 2, 2, 2]\n",
      "confusion matrix:\n",
      "{2: 0}\n",
      "[[15]]\n"
     ]
    }
   ],
   "source": [
    "accurations = []\n",
    "num_data = len(X)\n",
    "k_fold = 10\n",
    "# kf = KFold(n_splits=k_fold)\n",
    "# for train, test in kf.split(X):\n",
    "#   train_x, test_x = X[train], X[test]\n",
    "#   train_y, test_y = Y[train], Y[test]\n",
    "#   print(train_x.shape)\n",
    "#   print(test_x.shape)\n",
    "test_size = num_data//k_fold\n",
    "test_slice_x = []\n",
    "test_slice_y = []\n",
    "remainder_x = []\n",
    "remainder_y = []\n",
    "\n",
    "# X[:test_size]\n",
    "# test_size\n",
    "# num_data\n",
    "\n",
    "for i in range(k_fold):\n",
    "  if i == 0:\n",
    "    test_slice_x, remainder_x = X[:test_size], X[test_size:]\n",
    "    test_slice_y, remainder_y = Y[:test_size], Y[test_size:]\n",
    "  else:\n",
    "    start = (i-1)*(test_size)\n",
    "    end = min(start + (test_size), num_data)\n",
    "    remainder_x[start:end], test_slice_x = test_slice_x, remainder_x[start:end].copy()\n",
    "    remainder_y[start:end], test_slice_y = test_slice_y, remainder_y[start:end].copy()\n",
    "  # print(test_slice_y)\n",
    "  # # print(y_test)\n",
    "  # print('test_x: ', test_slice_x, 'train_x:', remainder_x)\n",
    "  # print('test_y: ', test_slice_y, 'train_y: ', remainder_y)\n",
    "  model.fit(remainder_x, remainder_y, batch_size=1, epoch=5)\n",
    "  y_pred = model.predict(test_slice_x)\n",
    "  decode_test_y = []\n",
    "  for i in test_slice_y:\n",
    "    decode_test_y.append(np.argmax(i))\n",
    "  decode_pred_y = []\n",
    "  for i in y_pred:\n",
    "    decode_pred_y.append(np.argmax(i))\n",
    "  print(decode_pred_y)\n",
    "  accurations.append(accuracy_score(y_pred=decode_pred_y, y_true=decode_test_y))\n",
    "  model.reset()\n",
    "\n",
    "print(decode_pred_y)\n",
    "print(decode_test_y)\n",
    "  \n",
    "print(\"confusion matrix:\")\n",
    "print(confusion_matrix(decode_pred_y, decode_test_y))\n"
   ]
  },
  {
   "cell_type": "code",
   "execution_count": 117,
   "metadata": {},
   "outputs": [
    {
     "data": {
      "text/plain": [
       "[1.0,\n",
       " 1.0,\n",
       " 1.0,\n",
       " 0.3333333333333333,\n",
       " 0.0,\n",
       " 0.0,\n",
       " 0.3333333333333333,\n",
       " 0.9333333333333333,\n",
       " 0.6666666666666666,\n",
       " 1.0]"
      ]
     },
     "execution_count": 117,
     "metadata": {},
     "output_type": "execute_result"
    }
   ],
   "source": [
    "accurations"
   ]
  },
  {
   "cell_type": "code",
   "execution_count": 118,
   "metadata": {},
   "outputs": [
    {
     "data": {
      "text/plain": [
       "0.6266666666666667"
      ]
     },
     "execution_count": 118,
     "metadata": {},
     "output_type": "execute_result"
    }
   ],
   "source": [
    "np.average(accurations)"
   ]
  }
 ],
 "metadata": {
  "interpreter": {
   "hash": "912a385c51eb6c5e7722deaa3d69ac233c1539832e74272ada8aaebb7d379777"
  },
  "kernelspec": {
   "display_name": "Python 3.8.10 ('artificialneuralnetwork-ptGnph6k-py3.8')",
   "language": "python",
   "name": "python3"
  },
  "language_info": {
   "codemirror_mode": {
    "name": "ipython",
    "version": 3
   },
   "file_extension": ".py",
   "mimetype": "text/x-python",
   "name": "python",
   "nbconvert_exporter": "python",
   "pygments_lexer": "ipython3",
   "version": "3.9.9"
  },
  "orig_nbformat": 4
 },
 "nbformat": 4,
 "nbformat_minor": 2
}
