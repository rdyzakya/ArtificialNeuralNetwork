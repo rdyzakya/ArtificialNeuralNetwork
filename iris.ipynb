{
 "cells": [
  {
   "cell_type": "code",
   "execution_count": 11,
   "metadata": {},
   "outputs": [],
   "source": [
    "import pandas as pd\n",
    "import numpy as np\n",
    "# from src.encoder import encode, decode\n",
    "from sklearn.model_selection import train_test_split\n",
    "from sklearn.metrics import accuracy_score\n",
    "from src.ANN import *"
   ]
  },
  {
   "cell_type": "code",
   "execution_count": 4,
   "metadata": {},
   "outputs": [],
   "source": [
    "df = pd.read_csv('Iris.csv')\n",
    "df = df.drop(['Id'],axis=1)\n",
    "\n",
    "x_train = df[['SepalLengthCm', 'SepalWidthCm', 'PetalLengthCm', 'PetalWidthCm']]\n",
    "y_train = df['Species'].map({\n",
    "    \"Iris-setosa\": 0,\n",
    "    \"Iris-versicolor\": 1,\n",
    "    \"Iris-virginica\": 2\n",
    "}).astype(int)"
   ]
  },
  {
   "cell_type": "code",
   "execution_count": 5,
   "metadata": {},
   "outputs": [],
   "source": [
    "labelled_y = []\n",
    "for i in y_train:\n",
    "    a = [0,0,0]\n",
    "    a[i] = 1\n",
    "    labelled_y.append(a)  "
   ]
  },
  {
   "cell_type": "code",
   "execution_count": 6,
   "metadata": {},
   "outputs": [],
   "source": [
    "X = np.array(x_train)\n",
    "Y = np.array(labelled_y)"
   ]
  },
  {
   "cell_type": "code",
   "execution_count": 31,
   "metadata": {},
   "outputs": [],
   "source": [
    "train_x, test_x, train_y, test_y = train_test_split(X, Y, test_size=0.20, random_state=420)"
   ]
  },
  {
   "cell_type": "code",
   "execution_count": 8,
   "metadata": {},
   "outputs": [],
   "source": [
    "model = Sequential(random_state=69)\n",
    "model.add(Dense(units=4, input_dim=4, activation_function=\"relu\"))\n",
    "model.add(Dense(units=3, activation_function=\"sigmoid\"))\n",
    "model.compile(\"sum_squared_error\", 0.0001, 0.01)\n"
   ]
  },
  {
   "cell_type": "code",
   "execution_count": 32,
   "metadata": {},
   "outputs": [
    {
     "name": "stdout",
     "output_type": "stream",
     "text": [
      "MODEL INFO\n",
      "========================================================\n",
      "units : 4  ||  activation function : relu  ||  input_dim : 4\n",
      "weights :\n",
      "[-0.015157908769072938, 0.8257665576739106, -1.6427718513639606, 0.7918329949955728, -0.859533361335889]\n",
      "[0.007749051952277069, -0.5576096050873881, 0.4209618472454906, 0.7203976382509114, 1.1905197271914907]\n",
      "[0.027402104387172402, 1.3237855295059942, 1.2882673487403475, -0.1175459874474893, -1.2947088556466346]\n",
      "[-0.002186100973700786, -0.613876650651783, 1.0494299641723541, -0.5295705586622672, -0.1266405152235389]\n",
      "error terms:\n",
      "[-0.00057082  0.00031687  0.00124255  0.        ]\n",
      "========================================================\n",
      "units : 3  ||  activation function : sigmoid  ||  input_dim : 4\n",
      "weights :\n",
      "[0.00365963244170501, -0.4885622851482394, 0.2721723280540931, 0.771387333013238, -1.1938556129340119]\n",
      "[2.0397100745282245e-05, -1.9470827888248197, 0.9346083477902813, -1.111972412444724, 0.16862651572239196]\n",
      "[1.7422077399224876e-09, -1.8486549738921472, -1.1699643214624837, -1.9819269448247994, -2.0986129279168604]\n",
      "error terms:\n",
      "[1.62628770e-04 1.07382656e-06 2.25467745e-11]\n",
      "========================================================\n"
     ]
    }
   ],
   "source": [
    "# Jika ingin training full data, gunakan X dan Y\n",
    "# Displit karena pengen tahu akurasi saja\n",
    "model.fit(train_x, train_y, batch_size=10, epoch=50)\n",
    "model.summary()"
   ]
  },
  {
   "cell_type": "code",
   "execution_count": 33,
   "metadata": {},
   "outputs": [],
   "source": [
    "y_pred = model.predict(test_x)"
   ]
  },
  {
   "cell_type": "code",
   "execution_count": 34,
   "metadata": {},
   "outputs": [],
   "source": [
    "decode_test_y = []\n",
    "for i in test_y:\n",
    "  for j in range(len(i)):\n",
    "    if i[j] == 1:\n",
    "      decode_test_y.append(j)\n",
    "      break\n"
   ]
  },
  {
   "cell_type": "code",
   "execution_count": 35,
   "metadata": {},
   "outputs": [],
   "source": [
    "decode_pred_y = []\n",
    "threshold = 0.001\n",
    "for i in test_y:\n",
    "  for j in range(len(i)):\n",
    "    if abs(i[j]-1) < threshold:\n",
    "      decode_pred_y.append(j)\n",
    "      break"
   ]
  },
  {
   "cell_type": "code",
   "execution_count": 36,
   "metadata": {},
   "outputs": [
    {
     "data": {
      "text/plain": [
       "1.0"
      ]
     },
     "execution_count": 36,
     "metadata": {},
     "output_type": "execute_result"
    }
   ],
   "source": [
    "accuracy_score(y_pred=decode_pred_y, y_true=decode_test_y)"
   ]
  }
 ],
 "metadata": {
  "interpreter": {
   "hash": "912a385c51eb6c5e7722deaa3d69ac233c1539832e74272ada8aaebb7d379777"
  },
  "kernelspec": {
   "display_name": "Python 3.8.10 ('artificialneuralnetwork-ptGnph6k-py3.8')",
   "language": "python",
   "name": "python3"
  },
  "language_info": {
   "codemirror_mode": {
    "name": "ipython",
    "version": 3
   },
   "file_extension": ".py",
   "mimetype": "text/x-python",
   "name": "python",
   "nbconvert_exporter": "python",
   "pygments_lexer": "ipython3",
   "version": "3.8.10"
  },
  "orig_nbformat": 4
 },
 "nbformat": 4,
 "nbformat_minor": 2
}
